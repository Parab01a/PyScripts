{
 "cells": [
  {
   "cell_type": "code",
   "execution_count": 116,
   "id": "65766b50-4f19-427e-b3eb-49745b70400c",
   "metadata": {},
   "outputs": [],
   "source": [
    "import pandas as pd\n",
    "import numpy as np\n",
    "from rdkit import Chem\n",
    "from rdkit.Chem import MACCSkeys\n",
    "from rdkit import DataStructs"
   ]
  },
  {
   "cell_type": "code",
   "execution_count": 117,
   "id": "1975ee54-fd45-48b4-9c42-32b5747a5c2a",
   "metadata": {},
   "outputs": [],
   "source": [
    "df = pd.read_csv('zhang_test.csv')"
   ]
  },
  {
   "cell_type": "code",
   "execution_count": 118,
   "id": "d4535b0d-aa9b-48da-95d0-3dcafe2c26ad",
   "metadata": {},
   "outputs": [],
   "source": [
    "df_smiles = df['smiles']"
   ]
  },
  {
   "cell_type": "code",
   "execution_count": 119,
   "id": "a7c17ff7-7bda-45dc-9058-db9ca9bd2e2f",
   "metadata": {},
   "outputs": [
    {
     "data": {
      "text/plain": [
       "0           CCOC(=O)N1CCC(=C2c3ccc(Cl)cc3CCc3cccnc32)CC1\n",
       "1      CC1CC2C(C(O)CC3(C)C2CCC3(O)C(=O)CO)C2(C)C=CC(=...\n",
       "2      CCOc1nc2cccc(C(=O)O)c2n1Cc1ccc(-c2ccccc2-c2nn[...\n",
       "3      CC(=O)SC1CC2=CC(=O)CCC2(C)C2CCC3(C)C(CCC34CCC(...\n",
       "4      O=C(c1ccc(OCCN2CCCCC2)cc1)c1c(-c2ccc(O)cc2)sc2...\n",
       "                             ...                        \n",
       "528    CCC1OC(=O)C(C)C(OC2CC(C)(OC)C(O)C(C)O2)C(C)C(O...\n",
       "529              CC(C)(C)C#CC=CCN(C)CC1=CC=CC2=CC=CC=C21\n",
       "530                      CCCCNC(=O)NS(=O)(=O)c1ccc(C)cc1\n",
       "531                  ON=Cc1cc[n+](C[n+]2ccc(C=NO)cc2)cc1\n",
       "532    COc1cc(O)c(cc1OC)C(=O)Nc2nc(cs2)C(=O)NCCN(C(C)...\n",
       "Name: smiles, Length: 533, dtype: object"
      ]
     },
     "execution_count": 119,
     "metadata": {},
     "output_type": "execute_result"
    }
   ],
   "source": [
    "df_smiles"
   ]
  },
  {
   "cell_type": "code",
   "execution_count": 120,
   "id": "de065c35-24b9-4016-b6a4-458eac3c949d",
   "metadata": {},
   "outputs": [],
   "source": [
    "mols = [Chem.MolFromSmiles(x) for x in df_smiles]"
   ]
  },
  {
   "cell_type": "code",
   "execution_count": 121,
   "id": "b9abd062-e0a3-4cce-9c53-816e58f2adc9",
   "metadata": {},
   "outputs": [],
   "source": [
    "fps = [MACCSkeys.GenMACCSKeys(x) for x in mols]"
   ]
  },
  {
   "cell_type": "code",
   "execution_count": 123,
   "id": "fbc26049-a1bd-4691-a4a6-4d1587e33455",
   "metadata": {},
   "outputs": [
    {
     "data": {
      "text/plain": [
       "<rdkit.DataStructs.cDataStructs.ExplicitBitVect at 0x242ed1ac0d0>"
      ]
     },
     "execution_count": 123,
     "metadata": {},
     "output_type": "execute_result"
    }
   ],
   "source": [
    "fps[0]"
   ]
  },
  {
   "cell_type": "code",
   "execution_count": 124,
   "id": "6a183c7d-fdc9-4c16-ae29-2e34aca63639",
   "metadata": {},
   "outputs": [],
   "source": [
    "fps_arr = []\n",
    "i = 0\n",
    "for i in range(0, len(fps)):\n",
    "    fps_arr.append(fps[i].ToBitString())"
   ]
  },
  {
   "cell_type": "code",
   "execution_count": 125,
   "id": "f410b7c9-694c-415f-a2bb-cd5159299dad",
   "metadata": {},
   "outputs": [],
   "source": [
    "d = {'smiles': fps_arr}\n",
    "df_fps = pd.DataFrame(data=d)\n",
    "df_fps.to_csv('zhang_MACCS.csv', index=False)"
   ]
  },
  {
   "cell_type": "code",
   "execution_count": null,
   "id": "49c10fc2-6608-4cc7-bd5c-95d99c7c6da8",
   "metadata": {},
   "outputs": [],
   "source": []
  }
 ],
 "metadata": {
  "kernelspec": {
   "display_name": "Python 3 (ipykernel)",
   "language": "python",
   "name": "python3"
  },
  "language_info": {
   "codemirror_mode": {
    "name": "ipython",
    "version": 3
   },
   "file_extension": ".py",
   "mimetype": "text/x-python",
   "name": "python",
   "nbconvert_exporter": "python",
   "pygments_lexer": "ipython3",
   "version": "3.7.15"
  }
 },
 "nbformat": 4,
 "nbformat_minor": 5
}
